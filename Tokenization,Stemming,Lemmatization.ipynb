{
  "nbformat": 4,
  "nbformat_minor": 0,
  "metadata": {
    "colab": {
      "provenance": [],
      "authorship_tag": "ABX9TyN/9YhtWXlV3GH0QHgXNLUa",
      "include_colab_link": true
    },
    "kernelspec": {
      "name": "python3",
      "display_name": "Python 3"
    },
    "language_info": {
      "name": "python"
    }
  },
  "cells": [
    {
      "cell_type": "markdown",
      "metadata": {
        "id": "view-in-github",
        "colab_type": "text"
      },
      "source": [
        "<a href=\"https://colab.research.google.com/github/jaison-1920/nlp/blob/main/Tokenization%2CStemming%2CLemmatization.ipynb\" target=\"_parent\"><img src=\"https://colab.research.google.com/assets/colab-badge.svg\" alt=\"Open In Colab\"/></a>"
      ]
    },
    {
      "cell_type": "markdown",
      "source": [
        "# Using NLTK library"
      ],
      "metadata": {
        "id": "v_ajy1H8L8PE"
      }
    },
    {
      "cell_type": "markdown",
      "source": [
        "## Tokenization"
      ],
      "metadata": {
        "id": "N__RPoB9MGIf"
      }
    },
    {
      "cell_type": "code",
      "source": [
        "import nltk\n",
        "nltk.download('punkt')"
      ],
      "metadata": {
        "colab": {
          "base_uri": "https://localhost:8080/"
        },
        "id": "yN1WjRgvMEjW",
        "outputId": "584fe346-a3cd-4c8e-f372-7ad8a7c0ee88"
      },
      "execution_count": 37,
      "outputs": [
        {
          "output_type": "stream",
          "name": "stderr",
          "text": [
            "[nltk_data] Downloading package punkt to /root/nltk_data...\n",
            "[nltk_data]   Package punkt is already up-to-date!\n"
          ]
        },
        {
          "output_type": "execute_result",
          "data": {
            "text/plain": [
              "True"
            ]
          },
          "metadata": {},
          "execution_count": 37
        }
      ]
    },
    {
      "cell_type": "code",
      "source": [
        "corpus = \"\"\" Hello! Welcome, My name is Jaison Philip.\n",
        "I love to study A.I. Artificail intelligence is world's new trend.\n",
        "\"\"\""
      ],
      "metadata": {
        "id": "xHuWFuaIMOu3"
      },
      "execution_count": 38,
      "outputs": []
    },
    {
      "cell_type": "code",
      "source": [
        "print(corpus)"
      ],
      "metadata": {
        "colab": {
          "base_uri": "https://localhost:8080/"
        },
        "id": "U9FbwCE9M2_w",
        "outputId": "c2f8c044-ff93-46dc-b130-740d82120c7f"
      },
      "execution_count": 39,
      "outputs": [
        {
          "output_type": "stream",
          "name": "stdout",
          "text": [
            " Hello! Welcome, My name is Jaison Philip.\n",
            "I love to study A.I. Artificail intelligence is world's new trend.\n",
            "\n"
          ]
        }
      ]
    },
    {
      "cell_type": "code",
      "source": [
        "# using sentence tokenizer\n",
        "from nltk.tokenize import sent_tokenize\n",
        "document = sent_tokenize(corpus)\n",
        "document"
      ],
      "metadata": {
        "colab": {
          "base_uri": "https://localhost:8080/"
        },
        "id": "MBtXJtLlM4rZ",
        "outputId": "81b7fb7c-0c9f-4e97-a4e0-7d1af51cbac1"
      },
      "execution_count": 40,
      "outputs": [
        {
          "output_type": "execute_result",
          "data": {
            "text/plain": [
              "[' Hello!',\n",
              " 'Welcome, My name is Jaison Philip.',\n",
              " 'I love to study A.I.',\n",
              " \"Artificail intelligence is world's new trend.\"]"
            ]
          },
          "metadata": {},
          "execution_count": 40
        }
      ]
    },
    {
      "cell_type": "code",
      "source": [
        "# using word tokenizer\n",
        "from nltk.tokenize import word_tokenize\n",
        "word_tokenize(corpus)"
      ],
      "metadata": {
        "colab": {
          "base_uri": "https://localhost:8080/"
        },
        "id": "zRYJFVRgNDHu",
        "outputId": "35d46e3d-f2dc-4861-bb55-c4547dc68b64"
      },
      "execution_count": 41,
      "outputs": [
        {
          "output_type": "execute_result",
          "data": {
            "text/plain": [
              "['Hello',\n",
              " '!',\n",
              " 'Welcome',\n",
              " ',',\n",
              " 'My',\n",
              " 'name',\n",
              " 'is',\n",
              " 'Jaison',\n",
              " 'Philip',\n",
              " '.',\n",
              " 'I',\n",
              " 'love',\n",
              " 'to',\n",
              " 'study',\n",
              " 'A.I',\n",
              " '.',\n",
              " 'Artificail',\n",
              " 'intelligence',\n",
              " 'is',\n",
              " 'world',\n",
              " \"'s\",\n",
              " 'new',\n",
              " 'trend',\n",
              " '.']"
            ]
          },
          "metadata": {},
          "execution_count": 41
        }
      ]
    },
    {
      "cell_type": "code",
      "source": [
        "for sentence in document:\n",
        "  print(sentence)"
      ],
      "metadata": {
        "colab": {
          "base_uri": "https://localhost:8080/"
        },
        "id": "HIAyDBuJNS5E",
        "outputId": "9d7f4240-1c10-4c06-a33e-5a916acdaa90"
      },
      "execution_count": 42,
      "outputs": [
        {
          "output_type": "stream",
          "name": "stdout",
          "text": [
            " Hello!\n",
            "Welcome, My name is Jaison Philip.\n",
            "I love to study A.I.\n",
            "Artificail intelligence is world's new trend.\n"
          ]
        }
      ]
    },
    {
      "cell_type": "code",
      "source": [
        "for sentence in document:\n",
        "  print(word_tokenize(sentence))"
      ],
      "metadata": {
        "colab": {
          "base_uri": "https://localhost:8080/"
        },
        "id": "ElBNa7zAOOod",
        "outputId": "2aded3fc-c23a-4873-fd88-abb0c0dc7516"
      },
      "execution_count": 43,
      "outputs": [
        {
          "output_type": "stream",
          "name": "stdout",
          "text": [
            "['Hello', '!']\n",
            "['Welcome', ',', 'My', 'name', 'is', 'Jaison', 'Philip', '.']\n",
            "['I', 'love', 'to', 'study', 'A.I', '.']\n",
            "['Artificail', 'intelligence', 'is', 'world', \"'s\", 'new', 'trend', '.']\n"
          ]
        }
      ]
    },
    {
      "cell_type": "code",
      "source": [
        "#word_punct_tokenize\n",
        "from nltk.tokenize import wordpunct_tokenize\n",
        "wordpunct_tokenize(corpus)\n",
        "# it will tokenize each and every word with  punctuation marks\n",
        "# earlier A.I was a single word in word_tokenize but those are\n",
        "# tokenized in wordpunct_tokenize"
      ],
      "metadata": {
        "colab": {
          "base_uri": "https://localhost:8080/"
        },
        "id": "eBT549gZOZCY",
        "outputId": "79d0b236-0b94-42e0-c8e7-0fa59d8b1b57"
      },
      "execution_count": 44,
      "outputs": [
        {
          "output_type": "execute_result",
          "data": {
            "text/plain": [
              "['Hello',\n",
              " '!',\n",
              " 'Welcome',\n",
              " ',',\n",
              " 'My',\n",
              " 'name',\n",
              " 'is',\n",
              " 'Jaison',\n",
              " 'Philip',\n",
              " '.',\n",
              " 'I',\n",
              " 'love',\n",
              " 'to',\n",
              " 'study',\n",
              " 'A',\n",
              " '.',\n",
              " 'I',\n",
              " '.',\n",
              " 'Artificail',\n",
              " 'intelligence',\n",
              " 'is',\n",
              " 'world',\n",
              " \"'\",\n",
              " 's',\n",
              " 'new',\n",
              " 'trend',\n",
              " '.']"
            ]
          },
          "metadata": {},
          "execution_count": 44
        }
      ]
    },
    {
      "cell_type": "code",
      "source": [
        "#TreeBankWordTokenizer\n",
        "from nltk.tokenize import TreebankWordTokenizer\n",
        "#first create an obj\n",
        "tree = TreebankWordTokenizer()\n",
        "tree.tokenize(corpus)\n",
        "# in this the last sentence only the . is considered as punctuation\n",
        "# rest of the sentences end with ."
      ],
      "metadata": {
        "colab": {
          "base_uri": "https://localhost:8080/"
        },
        "id": "tw5OwQt0OnvR",
        "outputId": "89ca8150-55fd-4749-cecd-58d24a240306"
      },
      "execution_count": 45,
      "outputs": [
        {
          "output_type": "execute_result",
          "data": {
            "text/plain": [
              "['Hello',\n",
              " '!',\n",
              " 'Welcome',\n",
              " ',',\n",
              " 'My',\n",
              " 'name',\n",
              " 'is',\n",
              " 'Jaison',\n",
              " 'Philip.',\n",
              " 'I',\n",
              " 'love',\n",
              " 'to',\n",
              " 'study',\n",
              " 'A.I.',\n",
              " 'Artificail',\n",
              " 'intelligence',\n",
              " 'is',\n",
              " 'world',\n",
              " \"'s\",\n",
              " 'new',\n",
              " 'trend',\n",
              " '.']"
            ]
          },
          "metadata": {},
          "execution_count": 45
        }
      ]
    },
    {
      "cell_type": "markdown",
      "source": [
        "## Stemming\n",
        "\n",
        "#### Stemming is cutting the prefixes or suffixes of a word and converting it into root stem\n",
        "#### eg: eating --> eat\n",
        "#### ===================\n",
        "#### porterStemmer, snowballStemmer, regexpStemmer etc are some examples"
      ],
      "metadata": {
        "id": "UiWWZp3YPv1P"
      }
    },
    {
      "cell_type": "code",
      "source": [
        "from nltk.stem import PorterStemmer"
      ],
      "metadata": {
        "id": "eHeP8IAePen2"
      },
      "execution_count": 46,
      "outputs": []
    },
    {
      "cell_type": "code",
      "source": [
        "words = ['eaten','eating','writing','eats','writes','programs','programming','history','finally','finalize']\n",
        "stemmer = PorterStemmer()\n",
        "for word in words:\n",
        "  print(word+\"---->\"+stemmer.stem(word))\n",
        "# some words like eaten,history is not getting proper words"
      ],
      "metadata": {
        "id": "ASjgtuMCoBGc",
        "colab": {
          "base_uri": "https://localhost:8080/"
        },
        "outputId": "c51922df-33d0-45fe-eb66-3edb365cf010"
      },
      "execution_count": 47,
      "outputs": [
        {
          "output_type": "stream",
          "name": "stdout",
          "text": [
            "eaten---->eaten\n",
            "eating---->eat\n",
            "writing---->write\n",
            "eats---->eat\n",
            "writes---->write\n",
            "programs---->program\n",
            "programming---->program\n",
            "history---->histori\n",
            "finally---->final\n",
            "finalize---->final\n"
          ]
        }
      ]
    },
    {
      "cell_type": "code",
      "source": [
        "from nltk.stem import RegexpStemmer\n",
        "reg_stemmer = RegexpStemmer('ing$|s$|e$|able$|en$')\n",
        "for word in words:\n",
        "  print(word+\"---->\"+reg_stemmer.stem(word))\n",
        "#here the stemmer follow the rules blindly based on the regex\n",
        "#we are providing. so it is not so effective"
      ],
      "metadata": {
        "colab": {
          "base_uri": "https://localhost:8080/"
        },
        "id": "Jro9nixzo3bc",
        "outputId": "971c2119-5be3-411c-f98a-756aeaa3d881"
      },
      "execution_count": 48,
      "outputs": [
        {
          "output_type": "stream",
          "name": "stdout",
          "text": [
            "eaten---->eat\n",
            "eating---->eat\n",
            "writing---->writ\n",
            "eats---->eat\n",
            "writes---->write\n",
            "programs---->program\n",
            "programming---->programm\n",
            "history---->history\n",
            "finally---->finally\n",
            "finalize---->finaliz\n"
          ]
        }
      ]
    },
    {
      "cell_type": "code",
      "source": [
        "from nltk.stem import SnowballStemmer\n",
        "snow = SnowballStemmer('english')\n",
        "for word in words:\n",
        "  print(word+\"---->\"+snow.stem(word))\n",
        "#yet there are some problems because in stemming\n",
        "#we are not getting the root word. we are getting\n",
        "#the root stem. but snowball is far better than porter"
      ],
      "metadata": {
        "colab": {
          "base_uri": "https://localhost:8080/"
        },
        "id": "DIS_3wc4p5t9",
        "outputId": "de8bf9a2-8016-43c3-9b19-c5c0d762638e"
      },
      "execution_count": 49,
      "outputs": [
        {
          "output_type": "stream",
          "name": "stdout",
          "text": [
            "eaten---->eaten\n",
            "eating---->eat\n",
            "writing---->write\n",
            "eats---->eat\n",
            "writes---->write\n",
            "programs---->program\n",
            "programming---->program\n",
            "history---->histori\n",
            "finally---->final\n",
            "finalize---->final\n"
          ]
        }
      ]
    },
    {
      "cell_type": "code",
      "source": [
        "# using porter stemmer\n",
        "stemmer.stem('fairly'),stemmer.stem('sportingly')"
      ],
      "metadata": {
        "colab": {
          "base_uri": "https://localhost:8080/"
        },
        "id": "sln6ku5zrJ6j",
        "outputId": "1c6bed93-f958-4b39-bc77-1f4c2b149417"
      },
      "execution_count": 50,
      "outputs": [
        {
          "output_type": "execute_result",
          "data": {
            "text/plain": [
              "('fairli', 'sportingli')"
            ]
          },
          "metadata": {},
          "execution_count": 50
        }
      ]
    },
    {
      "cell_type": "code",
      "source": [
        "# using snowball stemmer\n",
        "snow.stem('fairly'),snow.stem('sportingly')\n",
        "#more better"
      ],
      "metadata": {
        "colab": {
          "base_uri": "https://localhost:8080/"
        },
        "id": "LKKaPOCXsaAy",
        "outputId": "18b9f6c1-19c8-4f7d-995e-f1bcffe8280d"
      },
      "execution_count": 51,
      "outputs": [
        {
          "output_type": "execute_result",
          "data": {
            "text/plain": [
              "('fair', 'sport')"
            ]
          },
          "metadata": {},
          "execution_count": 51
        }
      ]
    },
    {
      "cell_type": "markdown",
      "source": [
        "## Lemmatization\n",
        "#### It is the process of cutting down a word to its root word\n",
        "#### eg: eating ---> eat\n",
        "#### eg: ate ----> eat\n",
        "#### WordnetLemmatizer in nltk is used for lemmatization\n",
        "#### it have 2 parameters---> the word and 'pos'"
      ],
      "metadata": {
        "id": "WIuu4ZOCsnkw"
      }
    },
    {
      "cell_type": "code",
      "source": [
        "nltk.download('wordnet')\n",
        "from nltk.stem import WordNetLemmatizer\n",
        "lemmatizer = WordNetLemmatizer()\n",
        "lemmatizer.lemmatize('eating',pos='v')"
      ],
      "metadata": {
        "colab": {
          "base_uri": "https://localhost:8080/",
          "height": 70
        },
        "id": "q48SXkx5sieH",
        "outputId": "906edc5a-980e-4060-b7ac-7fa2829823bf"
      },
      "execution_count": 52,
      "outputs": [
        {
          "output_type": "stream",
          "name": "stderr",
          "text": [
            "[nltk_data] Downloading package wordnet to /root/nltk_data...\n",
            "[nltk_data]   Package wordnet is already up-to-date!\n"
          ]
        },
        {
          "output_type": "execute_result",
          "data": {
            "text/plain": [
              "'eat'"
            ],
            "application/vnd.google.colaboratory.intrinsic+json": {
              "type": "string"
            }
          },
          "metadata": {},
          "execution_count": 52
        }
      ]
    },
    {
      "cell_type": "code",
      "source": [
        "lemmatizer.lemmatize('ate',pos='v')"
      ],
      "metadata": {
        "colab": {
          "base_uri": "https://localhost:8080/",
          "height": 35
        },
        "id": "HYt-Wbg1uT-L",
        "outputId": "5e3c6689-5da0-4bd8-dbdc-1e6f8780b949"
      },
      "execution_count": 53,
      "outputs": [
        {
          "output_type": "execute_result",
          "data": {
            "text/plain": [
              "'eat'"
            ],
            "application/vnd.google.colaboratory.intrinsic+json": {
              "type": "string"
            }
          },
          "metadata": {},
          "execution_count": 53
        }
      ]
    },
    {
      "cell_type": "code",
      "source": [
        "lemmatizer.lemmatize('pleasent',pos='n')"
      ],
      "metadata": {
        "colab": {
          "base_uri": "https://localhost:8080/",
          "height": 35
        },
        "id": "x2rNglaoudKw",
        "outputId": "09b0710c-a65c-4d67-b1b8-bccc8e70aa77"
      },
      "execution_count": 54,
      "outputs": [
        {
          "output_type": "execute_result",
          "data": {
            "text/plain": [
              "'pleasent'"
            ],
            "application/vnd.google.colaboratory.intrinsic+json": {
              "type": "string"
            }
          },
          "metadata": {},
          "execution_count": 54
        }
      ]
    },
    {
      "cell_type": "code",
      "source": [
        "lemmatizer.lemmatize('went',pos='v')\n",
        "# v-> verb\n",
        "# a-> adjective\n",
        "# n-> noun\n",
        "# r-> adverb"
      ],
      "metadata": {
        "colab": {
          "base_uri": "https://localhost:8080/",
          "height": 35
        },
        "id": "_YyJh8b-uhxs",
        "outputId": "510cf3d3-6d35-4752-9cab-9c1e78d38035"
      },
      "execution_count": 55,
      "outputs": [
        {
          "output_type": "execute_result",
          "data": {
            "text/plain": [
              "'go'"
            ],
            "application/vnd.google.colaboratory.intrinsic+json": {
              "type": "string"
            }
          },
          "metadata": {},
          "execution_count": 55
        }
      ]
    },
    {
      "cell_type": "markdown",
      "source": [
        "## Stopwords"
      ],
      "metadata": {
        "id": "08hSRw9HPSDo"
      }
    },
    {
      "cell_type": "code",
      "source": [
        "from nltk.corpus import stopwords"
      ],
      "metadata": {
        "id": "cTYtU5UWvM-E"
      },
      "execution_count": 56,
      "outputs": []
    },
    {
      "cell_type": "code",
      "source": [
        "nltk.download('stopwords')"
      ],
      "metadata": {
        "id": "-pOAe8dMPYpX",
        "outputId": "14aa2e56-5318-4122-8f77-38d500600fc4",
        "colab": {
          "base_uri": "https://localhost:8080/"
        }
      },
      "execution_count": 57,
      "outputs": [
        {
          "output_type": "stream",
          "name": "stderr",
          "text": [
            "[nltk_data] Downloading package stopwords to /root/nltk_data...\n",
            "[nltk_data]   Package stopwords is already up-to-date!\n"
          ]
        },
        {
          "output_type": "execute_result",
          "data": {
            "text/plain": [
              "True"
            ]
          },
          "metadata": {},
          "execution_count": 57
        }
      ]
    },
    {
      "cell_type": "code",
      "source": [
        "stopwords.words('english')"
      ],
      "metadata": {
        "id": "gvOVhMUIPeMu",
        "outputId": "99e2d813-67ad-4b2f-f33b-adbb9d4aced0",
        "colab": {
          "base_uri": "https://localhost:8080/"
        }
      },
      "execution_count": 58,
      "outputs": [
        {
          "output_type": "execute_result",
          "data": {
            "text/plain": [
              "['i',\n",
              " 'me',\n",
              " 'my',\n",
              " 'myself',\n",
              " 'we',\n",
              " 'our',\n",
              " 'ours',\n",
              " 'ourselves',\n",
              " 'you',\n",
              " \"you're\",\n",
              " \"you've\",\n",
              " \"you'll\",\n",
              " \"you'd\",\n",
              " 'your',\n",
              " 'yours',\n",
              " 'yourself',\n",
              " 'yourselves',\n",
              " 'he',\n",
              " 'him',\n",
              " 'his',\n",
              " 'himself',\n",
              " 'she',\n",
              " \"she's\",\n",
              " 'her',\n",
              " 'hers',\n",
              " 'herself',\n",
              " 'it',\n",
              " \"it's\",\n",
              " 'its',\n",
              " 'itself',\n",
              " 'they',\n",
              " 'them',\n",
              " 'their',\n",
              " 'theirs',\n",
              " 'themselves',\n",
              " 'what',\n",
              " 'which',\n",
              " 'who',\n",
              " 'whom',\n",
              " 'this',\n",
              " 'that',\n",
              " \"that'll\",\n",
              " 'these',\n",
              " 'those',\n",
              " 'am',\n",
              " 'is',\n",
              " 'are',\n",
              " 'was',\n",
              " 'were',\n",
              " 'be',\n",
              " 'been',\n",
              " 'being',\n",
              " 'have',\n",
              " 'has',\n",
              " 'had',\n",
              " 'having',\n",
              " 'do',\n",
              " 'does',\n",
              " 'did',\n",
              " 'doing',\n",
              " 'a',\n",
              " 'an',\n",
              " 'the',\n",
              " 'and',\n",
              " 'but',\n",
              " 'if',\n",
              " 'or',\n",
              " 'because',\n",
              " 'as',\n",
              " 'until',\n",
              " 'while',\n",
              " 'of',\n",
              " 'at',\n",
              " 'by',\n",
              " 'for',\n",
              " 'with',\n",
              " 'about',\n",
              " 'against',\n",
              " 'between',\n",
              " 'into',\n",
              " 'through',\n",
              " 'during',\n",
              " 'before',\n",
              " 'after',\n",
              " 'above',\n",
              " 'below',\n",
              " 'to',\n",
              " 'from',\n",
              " 'up',\n",
              " 'down',\n",
              " 'in',\n",
              " 'out',\n",
              " 'on',\n",
              " 'off',\n",
              " 'over',\n",
              " 'under',\n",
              " 'again',\n",
              " 'further',\n",
              " 'then',\n",
              " 'once',\n",
              " 'here',\n",
              " 'there',\n",
              " 'when',\n",
              " 'where',\n",
              " 'why',\n",
              " 'how',\n",
              " 'all',\n",
              " 'any',\n",
              " 'both',\n",
              " 'each',\n",
              " 'few',\n",
              " 'more',\n",
              " 'most',\n",
              " 'other',\n",
              " 'some',\n",
              " 'such',\n",
              " 'no',\n",
              " 'nor',\n",
              " 'not',\n",
              " 'only',\n",
              " 'own',\n",
              " 'same',\n",
              " 'so',\n",
              " 'than',\n",
              " 'too',\n",
              " 'very',\n",
              " 's',\n",
              " 't',\n",
              " 'can',\n",
              " 'will',\n",
              " 'just',\n",
              " 'don',\n",
              " \"don't\",\n",
              " 'should',\n",
              " \"should've\",\n",
              " 'now',\n",
              " 'd',\n",
              " 'll',\n",
              " 'm',\n",
              " 'o',\n",
              " 're',\n",
              " 've',\n",
              " 'y',\n",
              " 'ain',\n",
              " 'aren',\n",
              " \"aren't\",\n",
              " 'couldn',\n",
              " \"couldn't\",\n",
              " 'didn',\n",
              " \"didn't\",\n",
              " 'doesn',\n",
              " \"doesn't\",\n",
              " 'hadn',\n",
              " \"hadn't\",\n",
              " 'hasn',\n",
              " \"hasn't\",\n",
              " 'haven',\n",
              " \"haven't\",\n",
              " 'isn',\n",
              " \"isn't\",\n",
              " 'ma',\n",
              " 'mightn',\n",
              " \"mightn't\",\n",
              " 'mustn',\n",
              " \"mustn't\",\n",
              " 'needn',\n",
              " \"needn't\",\n",
              " 'shan',\n",
              " \"shan't\",\n",
              " 'shouldn',\n",
              " \"shouldn't\",\n",
              " 'wasn',\n",
              " \"wasn't\",\n",
              " 'weren',\n",
              " \"weren't\",\n",
              " 'won',\n",
              " \"won't\",\n",
              " 'wouldn',\n",
              " \"wouldn't\"]"
            ]
          },
          "metadata": {},
          "execution_count": 58
        }
      ]
    },
    {
      "cell_type": "code",
      "source": [
        "paragraph = \"\"\"I have three visions for India.\n",
        "In 3000 years of our history, people from all over the world have come and invaded us, captured our lands, conquered our minds.\n",
        "From Alexander onwards, The Greeks, the Turks, the Moguls, the Portuguese, the British, the French, the Dutch, all of them came and looted us, took over what was ours.\n",
        "Yet we have not done this to any other nation. We have not conquered anyone.\n",
        "We have not grabbed their land, their culture, their history and Tried to enforce our way of life on them.\n",
        "Why? Because we respect the freedom of others.\n",
        "That is why my first vision is that of FREEDOM.\n",
        "I believe that India got its first vision of this in 1857, when we started the war of Independence.\n",
        "It is this freedom that we must protect and nurture and build on. If we are not free, no one will respect us.\n",
        "My second vision for India's DEVELOPMENT, For fifty years we have been A developing nation.\n",
        "It is time we see ourselves as a developed nation. We are among top 5 nations of the world in terms of GDP.\n",
        "We have 10 percent growth rate in most areas. Our poverty levels are falling. Our achievements are being globally recognized today.\n",
        "Yet we lack the self-confidence to see ourselves as a developed nation, self-reliant and self-assured. Isn't this incorrect?\n",
        "I have a THIRD vision.\n",
        "India must stand up to the world.\n",
        "Because I believe that, unless India stands up to the world, no one will respect us.\n",
        "Only strength respects strength. We must be strong not only as a military power but also as an economic power.\n",
        "Both must go hand-in-hand. My good fortune was to have worked with three great minds.\n",
        "Dr. Vikram Sarabhai of the Dept. of space, Professor Satish Dhawan, who succeeded him and Dr.Brahm Prakash, father of nuclear material.\n",
        "I was lucky to have worked with all three of them closely and consider this the great opportunity of my life.\n",
        "\"\"\""
      ],
      "metadata": {
        "id": "FqT76m-HPzwi"
      },
      "execution_count": 63,
      "outputs": []
    },
    {
      "cell_type": "code",
      "source": [
        "# when we get a paragraph, first we do sentence tokenize\n",
        "# then we do word tokenize\n",
        "# then we do stop words removal\n",
        "# then we stemm it and join it\n",
        "\n",
        "#sentence tokenization\n",
        "sentence = sent_tokenize(paragraph)\n",
        "sentence"
      ],
      "metadata": {
        "id": "6thu8jVhRHnP",
        "outputId": "b5268695-4045-4d7e-9d3e-e208211e2c11",
        "colab": {
          "base_uri": "https://localhost:8080/"
        }
      },
      "execution_count": 77,
      "outputs": [
        {
          "output_type": "execute_result",
          "data": {
            "text/plain": [
              "['I have three visions for India.',\n",
              " 'In 3000 years of our history, people from all over the world have come and invaded us, captured our lands, conquered our minds.',\n",
              " 'From Alexander onwards, The Greeks, the Turks, the Moguls, the Portuguese, the British, the French, the Dutch, all of them came and looted us, took over what was ours.',\n",
              " 'Yet we have not done this to any other nation.',\n",
              " 'We have not conquered anyone.',\n",
              " 'We have not grabbed their land, their culture, their history and Tried to enforce our way of life on them.',\n",
              " 'Why?',\n",
              " 'Because we respect the freedom of others.',\n",
              " 'That is why my first vision is that of FREEDOM.',\n",
              " 'I believe that India got its first vision of this in 1857, when we started the war of Independence.',\n",
              " 'It is this freedom that we must protect and nurture and build on.',\n",
              " 'If we are not free, no one will respect us.',\n",
              " \"My second vision for India's DEVELOPMENT, For fifty years we have been A developing nation.\",\n",
              " 'It is time we see ourselves as a developed nation.',\n",
              " 'We are among top 5 nations of the world in terms of GDP.',\n",
              " 'We have 10 percent growth rate in most areas.',\n",
              " 'Our poverty levels are falling.',\n",
              " 'Our achievements are being globally recognized today.',\n",
              " 'Yet we lack the self-confidence to see ourselves as a developed nation, self-reliant and self-assured.',\n",
              " \"Isn't this incorrect?\",\n",
              " 'I have a THIRD vision.',\n",
              " 'India must stand up to the world.',\n",
              " 'Because I believe that, unless India stands up to the world, no one will respect us.',\n",
              " 'Only strength respects strength.',\n",
              " 'We must be strong not only as a military power but also as an economic power.',\n",
              " 'Both must go hand-in-hand.',\n",
              " 'My good fortune was to have worked with three great minds.',\n",
              " 'Dr. Vikram Sarabhai of the Dept.',\n",
              " 'of space, Professor Satish Dhawan, who succeeded him and Dr.Brahm Prakash, father of nuclear material.',\n",
              " 'I was lucky to have worked with all three of them closely and consider this the great opportunity of my life.']"
            ]
          },
          "metadata": {},
          "execution_count": 77
        }
      ]
    },
    {
      "cell_type": "code",
      "source": [
        "#porter stemming\n",
        "for i in range(len(sentence)):\n",
        "  words = word_tokenize(sentence[i])#word tokenization\n",
        "  words = [stemmer.stem(word) for word in words if word not in set(stopwords.words('english'))]# porter stemming\n",
        "  sentence[i] = ' '.join(words)# joining stemmed and stopword removed words to sentence\n"
      ],
      "metadata": {
        "id": "-dToNydKRxwo"
      },
      "execution_count": 65,
      "outputs": []
    },
    {
      "cell_type": "code",
      "source": [
        "sentence\n",
        "# in porter stemming there is some issue like peopl, histori etc. let try snowball stemming"
      ],
      "metadata": {
        "id": "sFsBdQowYa1O",
        "outputId": "ef39e4d9-cd56-43f6-cdb1-7c00e29f5980",
        "colab": {
          "base_uri": "https://localhost:8080/"
        }
      },
      "execution_count": 66,
      "outputs": [
        {
          "output_type": "execute_result",
          "data": {
            "text/plain": [
              "['i three vision india .',\n",
              " 'in 3000 year histori , peopl world come invad us , captur land , conquer mind .',\n",
              " 'from alexand onward , the greek , turk , mogul , portugues , british , french , dutch , came loot us , took .',\n",
              " 'yet done nation .',\n",
              " 'we conquer anyon .',\n",
              " 'we grab land , cultur , histori tri enforc way life .',\n",
              " 'whi ?',\n",
              " 'becaus respect freedom other .',\n",
              " 'that first vision freedom .',\n",
              " 'i believ india got first vision 1857 , start war independ .',\n",
              " 'it freedom must protect nurtur build .',\n",
              " 'if free , one respect us .',\n",
              " \"my second vision india 's develop , for fifti year a develop nation .\",\n",
              " 'it time see develop nation .',\n",
              " 'we among top 5 nation world term gdp .',\n",
              " 'we 10 percent growth rate area .',\n",
              " 'our poverti level fall .',\n",
              " 'our achiev global recogn today .',\n",
              " 'yet lack self-confid see develop nation , self-reli self-assur .',\n",
              " \"is n't incorrect ?\",\n",
              " 'i third vision .',\n",
              " 'india must stand world .',\n",
              " 'becaus i believ , unless india stand world , one respect us .',\n",
              " 'onli strength respect strength .',\n",
              " 'we must strong militari power also econom power .',\n",
              " 'both must go hand-in-hand .',\n",
              " 'my good fortun work three great mind .',\n",
              " 'dr. vikram sarabhai dept .',\n",
              " 'space , professor satish dhawan , succeed dr.brahm prakash , father nuclear materi .',\n",
              " 'i lucki work three close consid great opportun life .']"
            ]
          },
          "metadata": {},
          "execution_count": 66
        }
      ]
    },
    {
      "cell_type": "code",
      "source": [
        "#snowball stemming\n",
        "for i in range(len(sentence)):\n",
        "  words = word_tokenize(sentence[i])#word tokenization\n",
        "  words = [snow.stem(word) for word in words if word not in set(stopwords.words('english'))]# snowball stemming\n",
        "  sentence[i] = ' '.join(words)# joining stemmed and stopword removed words to sentence\n"
      ],
      "metadata": {
        "id": "fMFBjRZZYcF9"
      },
      "execution_count": 68,
      "outputs": []
    },
    {
      "cell_type": "code",
      "source": [
        "sentence\n",
        "#there is also some issue. lets try lemmatization"
      ],
      "metadata": {
        "id": "szYpjzmuZ8iC",
        "outputId": "98f332c7-33a9-4231-d9ab-063d2e429d89",
        "colab": {
          "base_uri": "https://localhost:8080/"
        }
      },
      "execution_count": 69,
      "outputs": [
        {
          "output_type": "execute_result",
          "data": {
            "text/plain": [
              "['i three vision india .',\n",
              " 'in 3000 year histori , peopl world come invad us , captur land , conquer mind .',\n",
              " 'from alexand onward , the greek , turk , mogul , portugues , british , french , dutch , came loot us , took .',\n",
              " 'yet done nation .',\n",
              " 'we conquer anyon .',\n",
              " 'we grab land , cultur , histori tri enforc way life .',\n",
              " 'whi ?',\n",
              " 'becaus respect freedom other .',\n",
              " 'that first vision freedom .',\n",
              " 'i believ india got first vision 1857 , start war independ .',\n",
              " 'it freedom must protect nurtur build .',\n",
              " 'if free , one respect us .',\n",
              " \"my second vision india 's develop , for fifti year a develop nation .\",\n",
              " 'it time see develop nation .',\n",
              " 'we among top 5 nation world term gdp .',\n",
              " 'we 10 percent growth rate area .',\n",
              " 'our poverti level fall .',\n",
              " 'our achiev global recogn today .',\n",
              " 'yet lack self-confid see develop nation , self-reli self-assur .',\n",
              " \"is n't incorrect ?\",\n",
              " 'i third vision .',\n",
              " 'india must stand world .',\n",
              " 'becaus i believ , unless india stand world , one respect us .',\n",
              " 'onli strength respect strength .',\n",
              " 'we must strong militari power also econom power .',\n",
              " 'both must go hand-in-hand .',\n",
              " 'my good fortun work three great mind .',\n",
              " 'dr. vikram sarabhai dept .',\n",
              " 'space , professor satish dhawan , succeed dr.brahm prakash , father nuclear materi .',\n",
              " 'i lucki work three close consid great opportun life .']"
            ]
          },
          "metadata": {},
          "execution_count": 69
        }
      ]
    },
    {
      "cell_type": "code",
      "source": [
        "#wordnet lemmatization\n",
        "for i in range(len(sentence)):\n",
        "  words = word_tokenize(sentence[i])#word tokenization\n",
        "  words = [lemmatizer.lemmatize(word.lower(),pos='v') for word in words if word not in set(stopwords.words('english'))]# wordnet lemmatization\n",
        "  sentence[i] = ' '.join(words)# joining lemmatized and stopword removed words to sentence\n"
      ],
      "metadata": {
        "id": "GEGMJV8lZ-hK"
      },
      "execution_count": 78,
      "outputs": []
    },
    {
      "cell_type": "code",
      "source": [
        "sentence"
      ],
      "metadata": {
        "id": "cg2VMsTcaIJ3",
        "outputId": "27fb90c8-35f9-4a80-eeeb-38d5ca332fbb",
        "colab": {
          "base_uri": "https://localhost:8080/"
        }
      },
      "execution_count": 79,
      "outputs": [
        {
          "output_type": "execute_result",
          "data": {
            "text/plain": [
              "['i three visions india .',\n",
              " 'in 3000 years history , people world come invade us , capture land , conquer mind .',\n",
              " 'from alexander onwards , the greeks , turks , moguls , portuguese , british , french , dutch , come loot us , take .',\n",
              " 'yet do nation .',\n",
              " 'we conquer anyone .',\n",
              " 'we grab land , culture , history try enforce way life .',\n",
              " 'why ?',\n",
              " 'because respect freedom others .',\n",
              " 'that first vision freedom .',\n",
              " 'i believe india get first vision 1857 , start war independence .',\n",
              " 'it freedom must protect nurture build .',\n",
              " 'if free , one respect us .',\n",
              " \"my second vision india 's development , for fifty years a develop nation .\",\n",
              " 'it time see develop nation .',\n",
              " 'we among top 5 nations world term gdp .',\n",
              " 'we 10 percent growth rate areas .',\n",
              " 'our poverty level fall .',\n",
              " 'our achievements globally recognize today .',\n",
              " 'yet lack self-confidence see develop nation , self-reliant self-assured .',\n",
              " \"be n't incorrect ?\",\n",
              " 'i third vision .',\n",
              " 'india must stand world .',\n",
              " 'because i believe , unless india stand world , one respect us .',\n",
              " 'only strength respect strength .',\n",
              " 'we must strong military power also economic power .',\n",
              " 'both must go hand-in-hand .',\n",
              " 'my good fortune work three great mind .',\n",
              " 'dr. vikram sarabhai dept .',\n",
              " 'space , professor satish dhawan , succeed dr.brahm prakash , father nuclear material .',\n",
              " 'i lucky work three closely consider great opportunity life .']"
            ]
          },
          "metadata": {},
          "execution_count": 79
        }
      ]
    },
    {
      "cell_type": "code",
      "source": [],
      "metadata": {
        "id": "hwbCgTGmaVCg"
      },
      "execution_count": null,
      "outputs": []
    }
  ]
}